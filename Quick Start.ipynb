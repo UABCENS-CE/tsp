{
 "cells": [
  {
   "cell_type": "code",
   "execution_count": null,
   "metadata": {
    "collapsed": true
   },
   "outputs": [],
   "source": [
    "import sys\n",
    "import os\n",
    "from os import path, listdir\n",
    "from tsp import benchmarks"
   ]
  },
  {
   "cell_type": "markdown",
   "metadata": {
    "collapsed": true
   },
   "source": [
    "# Adquisión de datos"
   ]
  },
  {
   "cell_type": "code",
   "execution_count": null,
   "metadata": {},
   "outputs": [],
   "source": [
    "benchmarks.download_tsp_heidelberg(output_folder=r'benchmarks_heidelberg')"
   ]
  },
  {
   "cell_type": "code",
   "execution_count": null,
   "metadata": {},
   "outputs": [],
   "source": [
    "benchmarks.download_tsp_waterloo(output_folder=r'benchmarks_waterloo')"
   ]
  },
  {
   "cell_type": "markdown",
   "metadata": {
    "collapsed": true
   },
   "source": [
    "## Creación de benchmarks con figuras geométricas\n",
    "Ejemplo: dos octágonos regulares de radio 10 cuyos centros están sobre el eje $x$ separados a 21 unidades de distancia. \n",
    "\n",
    "El resultado se escribe al archivo ``geometry.tsp``"
   ]
  },
  {
   "cell_type": "code",
   "execution_count": 4,
   "metadata": {},
   "outputs": [],
   "source": [
    "point_list = benchmarks.regular_polygon(edges=8,radius=10,center=(0,0))\n",
    "point_list += benchmarks.regular_polygon(edges=8,radius=10,center=(21,0))\n",
    "benchmarks.polygon_to_TSPLIB(point_list,'meh.tsp')"
   ]
  },
  {
   "cell_type": "code",
   "execution_count": null,
   "metadata": {
    "collapsed": true
   },
   "outputs": [],
   "source": []
  }
 ],
 "metadata": {
  "kernelspec": {
   "display_name": "Python 3",
   "language": "python",
   "name": "python3"
  },
  "language_info": {
   "codemirror_mode": {
    "name": "ipython",
    "version": 3
   },
   "file_extension": ".py",
   "mimetype": "text/x-python",
   "name": "python",
   "nbconvert_exporter": "python",
   "pygments_lexer": "ipython3",
   "version": "3.6.3"
  }
 },
 "nbformat": 4,
 "nbformat_minor": 2
}
