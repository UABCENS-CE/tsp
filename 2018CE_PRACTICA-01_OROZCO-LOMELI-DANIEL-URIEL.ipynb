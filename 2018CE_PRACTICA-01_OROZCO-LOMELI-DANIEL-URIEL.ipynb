{
 "cells": [
  {
   "cell_type": "markdown",
   "metadata": {},
   "source": [
    "# PRACTICA 1 - OROZCO LOMELI DANIEL URIEL"
   ]
  },
  {
   "cell_type": "code",
   "execution_count": 15,
   "metadata": {},
   "outputs": [],
   "source": [
    "import sys\n",
    "sys.path.append('tsp')\n",
    "import os\n",
    "from os import path, listdir\n",
    "from tsp import benchmarks,metrics,tspplot\n",
    "from tsp.tspobject import TSPObject\n",
    "\n",
    "import random\n",
    "import copy\n",
    "import numpy as np\n",
    "\n",
    "\n",
    "benchmark_path = r'benchmarks'"
   ]
  },
  {
   "cell_type": "markdown",
   "metadata": {},
   "source": [
    "# Algoritmo ACO (OPTIMIZACION POR COLONIA DE HORMIGAS)"
   ]
  },
  {
   "cell_type": "markdown",
   "metadata": {},
   "source": [
    "## Clase Hormiga"
   ]
  },
  {
   "cell_type": "code",
   "execution_count": 1,
   "metadata": {},
   "outputs": [],
   "source": [
    "class Hormiga:\n",
    "    def __init__(self,nombre,tsp_object):\n",
    "        self.feromonas = copy.deepcopy(tsp_object._M)\n",
    "        self.visitados = []\n",
    "        self.nombre = nombre\n",
    "\n",
    "    def DFeromonas(self,Q,L,N_ciudades): #Depositar feromonas\n",
    "        for i in range(1,N_ciudades + 1):\n",
    "            for j in range(1,N_ciudades + 1):\n",
    "                if i!=j:\n",
    "                    self.feromonas[str(i)][str(j)] = Q/L\n",
    "\n",
    "    def IDSelfFeromonas(self,N_ciudades): #Inicializar feromonas\n",
    "        for i in range(1,N_ciudades + 1):\n",
    "            for j in range(1,N_ciudades + 1):\n",
    "                if i!=j:\n",
    "                    self.feromonas[str(i)][str(j)] = 0"
   ]
  },
  {
   "cell_type": "markdown",
   "metadata": {},
   "source": [
    "## Funciones"
   ]
  },
  {
   "cell_type": "code",
   "execution_count": 17,
   "metadata": {},
   "outputs": [],
   "source": [
    "def select(prob):\n",
    "    value = max(prob)\n",
    "    return prob.index(value)\n",
    "\n",
    "def Fvisibilidad(tsp_object,N_ciudades):\n",
    "    visibilidad = copy.deepcopy(tsp_object._M)\n",
    "    for i in range(1,N_ciudades + 1):\n",
    "        for j in range(1,N_ciudades + 1):\n",
    "            if i!=j:\n",
    "                visibilidad[str(i)][str(j)] = 1/visibilidad[str(i)][str(j)]  #la inversa de las distancias\n",
    "    return visibilidad\n",
    "\n",
    "def Fprobabilidad(alpha,beta,hormiga_k,tsp_data_D,visibilidad,N_ciudades,feromonas_colonia):\n",
    "    i = hormiga_k.visitados[-1]\n",
    "    numerador = []\n",
    "    diccionarios = {} \n",
    "    for j in range(1,N_ciudades + 1):\n",
    "\n",
    "        if j not in hormiga_k.visitados:\n",
    "            operacion = (feromonas_colonia[str(i)][str(j)]**alpha)*(visibilidad[str(i)][str(j)]**beta)\n",
    "            numerador.append(operacion)\n",
    "            diccionarios[j] = operacion\n",
    "        else:\n",
    "            diccionarios[j] = 0\n",
    "\n",
    "    den = sum(numerador)\n",
    "    prob = [e/den for e in numerador]\n",
    "    indice = select(prob)\n",
    "    ayuda = [(k,v) for k, v in diccionarios.items() if v == numerador[indice]]\n",
    "    return ayuda[0][0]\n",
    "\n",
    "\n",
    "def IFeromonas(tsp_object,N_ciudades): #Inicializar feromonas\n",
    "    feromonas = copy.deepcopy(tsp_object._M)\n",
    "    for i in range(1,N_ciudades + 1):\n",
    "        for j in range(1,N_ciudades + 1):\n",
    "            if i!=j:\n",
    "                feromonas[str(i)][str(j)] = np.random.sample()*10\n",
    "    \n",
    "    return feromonas\n",
    "\n",
    "\n",
    "def EFeromonas(feromonas,p,colonia,N_ciudades): #Evaporar feromonas\n",
    "    #p parametro de actualizacion 0 <= p <= 1 \n",
    "    for i in range(1,N_ciudades + 1):\n",
    "            for j in range(1,N_ciudades + 1):\n",
    "                if i!=j:\n",
    "                    feromonas[str(i)][str(j)] = (1-p) * feromonas[str(i)][str(j)] + sum(hormiga.feromonas[str(i)][str(j)] for hormiga in colonia if hormiga.feromonas)\n",
    "    return feromonas"
   ]
  },
  {
   "cell_type": "code",
   "execution_count": 20,
   "metadata": {},
   "outputs": [],
   "source": [
    "def ACO(O,nodos):\n",
    "    ciudades = nodos\n",
    "    visibilidad = Fvisibilidad(O,ciudades) #la inversa de las distancias  \n",
    "    maxit = 10 #numero de iteraciones\n",
    "    g = 0 #generacion\n",
    "    visitado = [] #ciudades visitadas\n",
    "    alpha = 6 #variable para seleccion de camino\n",
    "    beta = 8 #variable para seleccion de camino\n",
    "    Q = 11 #variable para depositar feromonas\n",
    "    solucioneschidas = []\n",
    "    feromonas_colonia = IFeromonas(O,ciudades)\n",
    "    while g < maxit:\n",
    "        print(\"Colonia\",g+1)\n",
    "        #Creacion de hormigas\n",
    "        colonia = [Hormiga(i,O) for i in range(50)] #numero de hormigas en la colonia\n",
    "        i = 0 #iterador para nombres\n",
    "        g+=1\n",
    "        soluciones = []\n",
    "        cinicial = random.randint(1,ciudades)\n",
    "        for hormiga in colonia:\n",
    "            #print(\"hormiga\",hormiga.nombre+1)\n",
    "            hormiga.visitados.append(cinicial)\n",
    "\n",
    "            #Encontrar solucion\n",
    "            while len(hormiga.visitados) < ciudades:\n",
    "                hormiga.visitados.append(Fprobabilidad(alpha,beta,hormiga,O._M,visibilidad,ciudades,feromonas_colonia))\n",
    "            #print(hormiga.visitados)\n",
    "\n",
    "            #Depositar Feromonas\n",
    "            tour = [str(ciudad) for ciudad in hormiga.visitados]\n",
    "            L = O.evaluate_tour(tour)\n",
    "            soluciones.append((L,tour))\n",
    "            hormiga.IDSelfFeromonas(ciudades)\n",
    "            hormiga.DFeromonas(Q,L,ciudades)\n",
    "\n",
    "            #Evaporar feromonas\n",
    "            p = np.random.sample() # parametro de control de evaporacion\n",
    "            feromonas_colonia = EFeromonas(feromonas_colonia,p,colonia,ciudades)\n",
    "            i+=1\n",
    "\n",
    "        solucioneschidas.append(min(soluciones))\n",
    "\n",
    "\n",
    "    return min(solucioneschidas)[1]"
   ]
  },
  {
   "cell_type": "markdown",
   "metadata": {
    "collapsed": true
   },
   "source": [
    "# Encontrar una solución a TSP"
   ]
  },
  {
   "cell_type": "code",
   "execution_count": 21,
   "metadata": {},
   "outputs": [
    {
     "name": "stdout",
     "output_type": "stream",
     "text": [
      "Colonia 1\n",
      "Colonia 2\n",
      "Colonia 3\n",
      "Colonia 4\n",
      "Colonia 5\n",
      "Colonia 6\n",
      "Colonia 7\n",
      "Colonia 8\n",
      "Colonia 9\n",
      "Colonia 10\n"
     ]
    },
    {
     "data": {
      "image/png": "[encoded data removed]",
      "text/plain": [
       "<Figure size 432x432 with 1 Axes>"
      ]
     },
     "metadata": {},
     "output_type": "display_data"
    }
   ],
   "source": [
    "tsp_data = path.join(benchmark_path,'berlin52.tsp')\n",
    "\n",
    "#Crear Objeto TSP\n",
    "O = TSPObject(tsp_data,metrics.euc_dist)\n",
    "\n",
    "#Crear Matriz de Distancias\n",
    "O.M()\n",
    "\n",
    "#Crear variable que contenga el numero de nodos\n",
    "nodos = len(O.V)\n",
    "\n",
    "tspplot.plot_tsp(O,ACO(O,nodos),figsize=(6,6))"
   ]
  },
  {
   "cell_type": "code",
   "execution_count": null,
   "metadata": {
    "collapsed": true
   },
   "outputs": [],
   "source": []
  }
 ],
 "metadata": {
  "kernelspec": {
   "display_name": "Python 3",
   "language": "python",
   "name": "python3"
  },
  "language_info": {
   "codemirror_mode": {
    "name": "ipython",
    "version": 3
   },
   "file_extension": ".py",
   "mimetype": "text/x-python",
   "name": "python",
   "nbconvert_exporter": "python",
   "pygments_lexer": "ipython3",
   "version": "3.6.5"
  }
 },
 "nbformat": 4,
 "nbformat_minor": 2
}
