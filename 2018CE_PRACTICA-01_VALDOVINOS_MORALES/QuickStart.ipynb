{
 "cells": [
  {
   "cell_type": "markdown",
   "metadata": {},
   "source": [
    "# Quick Start Dicrete Particle Swarm Optimization\n",
    "Paquetes necesarios para este programa"
   ]
  },
  {
   "cell_type": "code",
   "execution_count": 1,
   "metadata": {
    "collapsed": true
   },
   "outputs": [],
   "source": [
    "import sys\n",
    "sys.path.append('tsp')\n",
    "import os\n",
    "from os import path, listdir\n",
    "from tsp import benchmarks,metrics,tspplot\n",
    "from tsp.tspobject import TSPObject\n",
    "import numpy as np\n",
    "import random\n",
    "\n",
    "\n",
    "benchmark_path = r'benchmarks'"
   ]
  },
  {
   "cell_type": "markdown",
   "metadata": {},
   "source": [
    "## Benchmark\n",
    "Adquiriendo los datos del problema TSP directo de un benchmark benchmark "
   ]
  },
  {
   "cell_type": "code",
   "execution_count": 2,
   "metadata": {
    "collapsed": true
   },
   "outputs": [],
   "source": [
    "tsp_data = path.join(benchmark_path,'eil51.tsp')"
   ]
  },
  {
   "cell_type": "markdown",
   "metadata": {},
   "source": [
    "## TSPObject\n",
    "Todos los datos del benchmark son guardados en un objeto tipo TSPObject"
   ]
  },
  {
   "cell_type": "code",
   "execution_count": 3,
   "metadata": {
    "collapsed": true
   },
   "outputs": [],
   "source": [
    "O = TSPObject(tsp_data,metrics.euc_dist)"
   ]
  },
  {
   "cell_type": "markdown",
   "metadata": {},
   "source": [
    "## Particle\n",
    "Clase que contiene la información de cada particula, como lo es su posición, velocidad, mejor posicion, etc. Así como todas sus funciones de actualización y fitness."
   ]
  },
  {
   "cell_type": "code",
   "execution_count": 9,
   "metadata": {
    "collapsed": true
   },
   "outputs": [],
   "source": [
    "class Particle:\n",
    "    def __init__(self,tour,pCost=None):\n",
    "        self.position = tour  #Tour\n",
    "        self.position_cost = pCost\n",
    "        self.velocity = 1 #Velocidad de la particula/Probabilidad de Permutación\n",
    "        self.pos_best = tour  #Mejor posicion\n",
    "        self.cost_best = pCost #Costo de la mejor ruta\n",
    "        \n",
    "    \n",
    "    def __repr__(self):\n",
    "        return str(self.position)\n",
    "    #    return str(\"Position: \",self.position,\"Velocity: \",self.velocity,\"Best Pos: \",self.pos_best,\"Err Best: \",self.err_best)\n",
    "\n",
    "    def fitness(self):\n",
    "        #En caso de que la posicion actual sea mejor que la mejor visitada\n",
    "        #se cambiara la mejor visitada por la actual\n",
    "        if self.position_cost < self.cost_best:\n",
    "            self.pos_best = self.position\n",
    "            self.cost_best = self.position_cost\n",
    "\n",
    "    \n",
    "    def update_velocity(self,pos_best_g,c0,c1,c2):\n",
    "        #Actualizando Velocidad\n",
    "        r1 = random.random()\n",
    "        r2 = random.random()\n",
    "        vel_cognitive = c1*r1*(self.position_cost - self.cost_best)\n",
    "        vel_social = c2*r2*(self.position_cost - pos_best_g)\n",
    "        self.velocity = c0*self.velocity+vel_cognitive+vel_social\n",
    "        return self.velocity\n",
    "    \n",
    "    def update_position(self,gbest_pos,V,swarm,k):\n",
    "        #Actualizar la posicion\n",
    "        V_average = sum(V)/len(V)\n",
    "        if V[k] > V_average:\n",
    "            for a in range(random.randint(0,len(gbest_pos))):\n",
    "                i = random.randint(0,len(self.position)-1)\n",
    "                Pj = gbest_pos[i]\n",
    "                j = int(self.position[self.position.index(Pj)])-1\n",
    "                Pj = self.position[j]\n",
    "                Pi = self.position[i]\n",
    "                self.position[i] = Pj\n",
    "                self.position[j] = Pi \n",
    "        \n",
    "    def mutation(self,gbest_pos,V,swarm):\n",
    "        #Mutacion de la particula\n",
    "        while(True):\n",
    "            i = random.randint(0,len(self.position)-1)\n",
    "            j = random.randint(0,len(self.position)-1)\n",
    "            if i != j:\n",
    "                break\n",
    "        \n",
    "        Pj = self.position[j]\n",
    "        Pi = self.position[i]\n",
    "        self.position[i] = Pj\n",
    "        self.position[j] = Pi "
   ]
  },
  {
   "attachments": {
    "image.png": {
     "image/png": "[encoded data removed]"
    }
   },
   "cell_type": "markdown",
   "metadata": {},
   "source": [
    "## Cruces\n",
    "Al tener los tours es normal que existan puntos donde los caminos se cruzan\n",
    "![image.png](attachment:image.png)\n",
    "Para poder eliminar estos puntos de cruce y hacer mas corto el tour se utilizan las siguientes 3 funciones:\n",
    "#### 1.- all_segments = Encuentra los segmentos que existen en un tour\n",
    "#### 2.- reverse_segment_if_better = Invierte el tour si es que mejora\n",
    "#### 3.- altere_tout = utiliza las dos funciones anteriores, y mejora el tour recursivamente hasta que vea que no mejoro"
   ]
  },
  {
   "cell_type": "code",
   "execution_count": 6,
   "metadata": {
    "collapsed": true
   },
   "outputs": [],
   "source": [
    "def random_tour(tsp_data):\n",
    "    #names = tsp_data['names'] sorted([n[0] for n in tsp_data['nodes']])        \n",
    "    return list(np.random.permutation(tsp_data.V)) #[names[0]] + list(np.random.permutation(names[1:]))\n",
    "\n",
    "#Utilizando la segmentacion del programa TSP_Norvig lo implemente para que funcione con PSO\n",
    "def all_segments(N):\n",
    "    return [(start, start + length)\n",
    "            for length in range(N, 2-1, -1)\n",
    "            for start in range(N - length + 1)]\n",
    "def reverse_segment_if_better(tsp_data,tour, i, j): \n",
    "    # Dado un tour [...A-B...C-D...], Consideramos invertir B...C para tener [...A-C...B-D...]\n",
    "    A, B, C, D = tour[i-1], tour[i], tour[j-1], tour[j % len(tour)]\n",
    "    # Los viejos bordes (AB + CD) son mas largos que los nuevos (AC + BD)? Si es asi cambiamos el segmento.\n",
    "    #Verificamos que sean diferentes los nodos\n",
    "    if A != B:\n",
    "        a = tsp_data.M()[str(A)][str(B)]\n",
    "    else: \n",
    "        a = 0\n",
    "    if C != D:\n",
    "        b = tsp_data.M()[str(C)][str(D)]\n",
    "    else:\n",
    "        b = 0\n",
    "    if A != C:\n",
    "        c = tsp_data.M()[str(A)][str(C)]\n",
    "    else:\n",
    "        c = 0\n",
    "    if B != D:\n",
    "        d = tsp_data.M()[str(B)][str(D)]\n",
    "    else:\n",
    "        d = 0\n",
    "    if (a + b) > (c + d):\n",
    "        tour[i:j] = reversed(tour[i:j])\n",
    "        \n",
    "def alter_tour(tsp_data,tour):\n",
    "    #tsp_data.metricfunc = metrics.haversine\n",
    "    original_length = tsp_data.evaluate_tour(tour)\n",
    "    for (start, end) in all_segments(len(tour)):  \n",
    "        reverse_segment_if_better(tsp_data,tour, start, end)\n",
    "    # Si mejora, intentamos seguirlo mejorando, si no termina de alterar el tour\n",
    "    if tsp_data.evaluate_tour(tour) < original_length:\n",
    "        return alter_tour(tsp_data,tour)\n",
    "    return tour"
   ]
  },
  {
   "cell_type": "markdown",
   "metadata": {},
   "source": [
    "## DPSO\n",
    "Algoritmo que resuelve TSP con el PSO discreto"
   ]
  },
  {
   "cell_type": "code",
   "execution_count": 7,
   "metadata": {
    "collapsed": true
   },
   "outputs": [],
   "source": [
    "def Discret_PSO(tsp_data):\n",
    "    random.seed(69)\n",
    "    num_dimensions = 2\n",
    "    mutations = 0\n",
    "    pM = 0.4\n",
    "    pr1 = 0.9 #Seguir su propio camino\n",
    "    pr2 = 0.05 #Seguir su mejor posicion\n",
    "    pr3 = 0.05 #seguir la mejor global\n",
    "    N = 100     #Numero de particulas\n",
    "    V = [0 for v in range(N)]      #Vector de probabilidades de Permutacion(Velocidad)\n",
    "    Iterations = 1000\n",
    "    swarm = [Particle(random_tour(tsp_data))  for i in range(N)]\n",
    "    for p in swarm:\n",
    "        p.cost_best = tsp_data.evaluate_tour(p.position)\n",
    "    gbest_pos = swarm[0].position\n",
    "    gbest_cost = swarm[0].cost_best\n",
    "    for k in range(Iterations):\n",
    "        i = 0\n",
    "        for p in swarm:\n",
    "            p.position_cost = tsp_data.evaluate_tour(p.position)\n",
    "            p.fitness()\n",
    "            if p.position_cost < gbest_cost:\n",
    "                gbest_pos = p.position\n",
    "                gbest_cost = p.position_cost\n",
    "        for p in swarm:\n",
    "            #Actualizar Velocidad\n",
    "            V[swarm.index(p)] = p.update_velocity(gbest_cost,pr1,pr2,pr3)\n",
    "        i=0\n",
    "        for p in swarm:\n",
    "            #Actualizar Posicion/Permutación\n",
    "            p.update_position(gbest_pos,V,swarm,i)\n",
    "            if random.random() < pM:\n",
    "                p.mutation(gbest_pos,V,swarm)\n",
    "                mutations += 1\n",
    "            swarm[i] = p\n",
    "            i+=1\n",
    "        #Actualizando probabilidades\n",
    "        pr1 = pr1 * 0.95\n",
    "        pr2 = pr2 * 1.01\n",
    "        pr3 = 1 - (pr1 + pr2)\n",
    "        #Eliminando cruces\n",
    "        gbest_pos = alter_tour(tsp_data,gbest_pos)\n",
    "        gbest_cost = tsp_data.evaluate_tour(gbest_pos)\n",
    "        #tsp_data.metricfunc = metrics.euc_dist\n",
    "        \n",
    "        \n",
    "    print(gbest_pos,\"--\",gbest_cost)\n",
    "    print(\"Mutaciones = \",mutations)\n",
    "    return gbest_pos"
   ]
  },
  {
   "cell_type": "markdown",
   "metadata": {},
   "source": [
    "## Resolviendo TSP"
   ]
  },
  {
   "cell_type": "code",
   "execution_count": 10,
   "metadata": {},
   "outputs": [
    {
     "name": "stdout",
     "output_type": "stream",
     "text": [
      "['7', '43', '24', '14', '25', '18', '13', '41', '40', '19', '42', '4', '47', '12', '51', '46', '11', '38', '5', '37', '17', '44', '15', '45', '33', '39', '10', '49', '9', '30', '34', '50', '21', '29', '20', '35', '36', '3', '28', '31', '26', '8', '48', '1', '22', '2', '16', '32', '27', '6', '23'] -- 456.93210295604314\n",
      "Mutaciones =  40140\n"
     ]
    }
   ],
   "source": [
    "tour = Discret_PSO(O)"
   ]
  },
  {
   "cell_type": "markdown",
   "metadata": {},
   "source": [
    "## Graficando el tour resultante "
   ]
  },
  {
   "cell_type": "code",
   "execution_count": 11,
   "metadata": {},
   "outputs": [
    {
     "data": {
      "image/png": "[encoded data removed]",
      "text/plain": [
       "<matplotlib.figure.Figure at 0x251340b1ef0>"
      ]
     },
     "metadata": {},
     "output_type": "display_data"
    }
   ],
   "source": [
    "tspplot.plot_tsp(O,tour=tour, figsize=(5,5))"
   ]
  }
 ],
 "metadata": {
  "kernelspec": {
   "display_name": "Python 3",
   "language": "python",
   "name": "python3"
  },
  "language_info": {
   "codemirror_mode": {
    "name": "ipython",
    "version": 3
   },
   "file_extension": ".py",
   "mimetype": "text/x-python",
   "name": "python",
   "nbconvert_exporter": "python",
   "pygments_lexer": "ipython3",
   "version": "3.6.3"
  }
 },
 "nbformat": 4,
 "nbformat_minor": 2
}
