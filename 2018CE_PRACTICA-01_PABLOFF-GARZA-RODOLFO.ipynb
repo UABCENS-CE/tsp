{
 "cells": [
  {
   "cell_type": "markdown",
   "metadata": {},
   "source": [
    "# PRACTICA 1 - Pabloff Garza Rodolfo"
   ]
  },
  {
   "cell_type": "code",
   "execution_count": 1,
   "metadata": {
    "collapsed": true
   },
   "outputs": [],
   "source": [
    "import sys\n",
    "sys.path.append('tsp')\n",
    "import os\n",
    "from os import path, listdir\n",
    "from tsp import benchmarks,metrics,tspplot\n",
    "from tsp.tspobject import TSPObject\n",
    "\n",
    "benchmark_path = r'benchmarks'"
   ]
  },
  {
   "cell_type": "markdown",
   "metadata": {},
   "source": [
    "# Algoritmo Murcielago"
   ]
  },
  {
   "cell_type": "code",
   "execution_count": 2,
   "metadata": {
    "collapsed": true
   },
   "outputs": [],
   "source": [
    "import random\n",
    "import numpy as np\n",
    "\n",
    "#*************************************Funciones*************************************\n",
    "def random_tour(O):\n",
    "    names = O.V\n",
    "    return list(np.random.permutation(names))\n",
    "\n",
    "def swap_2opt(tour, nodos):\n",
    "    i = random.randrange(nodos)\n",
    "    j = random.randrange(i + 1, nodos + 1)\n",
    "    \n",
    "    nuevo_tour = tour[0:i]\n",
    "    nuevo_tour.extend(reversed(tour[i:j+1]))\n",
    "    nuevo_tour.extend(tour[j+1:])\n",
    "    return nuevo_tour\n",
    "\n",
    "def swap_3opt(O,t,nodos, n=[]):\n",
    "    tour = t[:]\n",
    "    \n",
    "    i = random.randrange(1, nodos - 1)\n",
    "    j = random.randrange(i + 1, nodos)\n",
    "    k = random.randrange(j + 1, nodos + 1)\n",
    "    \n",
    "    A,B,C,D,E,F = tour[i-1],tour[i],tour[j-1],tour[j],tour[k-1],tour[k%len(tour)]\n",
    "    d0 = O._M[A][B] + O._M[C][D] + O._M[E][F]\n",
    "    d1 = O._M[A][C] + O._M[B][D] + O._M[E][F]\n",
    "    d2 = O._M[A][B] + O._M[C][E] + O._M[D][F]\n",
    "    d3 = O._M[F][B] + O._M[C][D] + O._M[E][A]\n",
    "    d4 = O._M[F][B] + O._M[C][E] + O._M[D][A]\n",
    "    d5 = O._M[F][C] + O._M[B][D] + O._M[E][A]\n",
    "    d6 = O._M[A][C] + O._M[B][E] + O._M[D][F]\n",
    "    d7 = O._M[A][D] + O._M[E][B] + O._M[C][F]\n",
    "    d = [d0,d1,d2,d3,d4,d5,d6,d7]\n",
    "    # Elegir Mejor Intercambio\n",
    "    m = np.argmin(d)\n",
    "    # Intercambio Aleatorio\n",
    "    #m = np.random.randint(1,len(d))\n",
    "    if m == 1:\n",
    "        tour[i:j] = reversed(tour[i:j])\n",
    "    elif m == 2:\n",
    "        tour[j:k] = reversed(tour[j:k])\n",
    "    elif m == 3:\n",
    "        tour[i:k] = reversed(tour[i:k])\n",
    "    elif m == 4:\n",
    "        tour[j:k] = reversed(tour[j:k])\n",
    "        tour[i:k] = reversed(tour[i:k])\n",
    "    elif m == 5:\n",
    "        tour[i:j] = reversed(tour[i:j])\n",
    "        tour[i:k] = reversed(tour[i:k])\n",
    "    elif m == 6:\n",
    "        tour[i:j] = reversed(tour[i:j])\n",
    "        tour[j:k] = reversed(tour[j:k])\n",
    "    elif m == 7:\n",
    "        tour[i:k] = tour[j:k] + tour[i:j]\n",
    "    return tour\n",
    "\n",
    "def dist_Hamming(tour1, tour2, tamano):\n",
    "    distancia = 0\n",
    "    for i in range(tamano):\n",
    "        if(tour1[i] is not tour2[i]):\n",
    "            distancia += 1\n",
    "    return distancia\n",
    "\n",
    "def bat_algorithm(tsp_data, iteraciones, tam_poblacion):\n",
    "    #*********************************Iniciar poblacion*********************************\n",
    "    parametros = ['tour','pulse_rate','velocity','loudness']\n",
    "    murcielagos = []\n",
    "\n",
    "    for i in range(tam_poblacion):\n",
    "        murcielagos.append({nombre:{} for nombre in parametros})\n",
    "        murcielagos[i]['tour'] = random_tour(tsp_data)\n",
    "        murcielagos[i]['pulse_rate'] = 0\n",
    "        murcielagos[i]['velocity'] = random.randrange(10)\n",
    "        murcielagos[i]['loudness'] = 1\n",
    "\n",
    "    murcielagos = sorted(murcielagos, key=lambda murcielago: tsp_data.evaluate_tour(murcielago['tour']))\n",
    "\n",
    "    #*********************************Iniciar algoritmo*********************************\n",
    "    for iteracion in range(iteraciones):\n",
    "        for contador in range(1, len(murcielagos)):\n",
    "            murcielagos[contador]['velocity'] = random.randrange(1, dist_Hamming(murcielagos[0]['tour'],murcielagos[contador]['tour'], len(tsp_data.V)) + 2)\n",
    "            if(murcielagos[contador]['velocity'] < len(tsp_data.V) / 2):\n",
    "                #print(\"\\nEntro a 2-opt con \", murcielagos[contador]['velocity'])\n",
    "\n",
    "                nuevos = []\n",
    "                for i in range(murcielagos[contador]['velocity']):\n",
    "                    nuevos.append(swap_2opt(murcielagos[contador]['tour'], len(tsp_data.V)))\n",
    "                nuevos = sorted(nuevos, key=lambda murcielago: tsp_data.evaluate_tour(murcielago))\n",
    "\n",
    "                murcielagos[contador]['tour'] = nuevos[0]\n",
    "\n",
    "            else:\n",
    "                #print(\"\\nEntro a 3-opt con \", murcielagos[contador]['velocity'])\n",
    "\n",
    "                nuevos = []\n",
    "                for i in range(murcielagos[contador]['velocity']):\n",
    "                    nuevos.append(swap_3opt(tsp_data, murcielagos[contador]['tour'], len(tsp_data.V)))\n",
    "                nuevos = sorted(nuevos, key=lambda murcielago: tsp_data.evaluate_tour(murcielago))\n",
    "\n",
    "                murcielagos[contador]['tour'] = nuevos[0]\n",
    "\n",
    "            aleatorio = round(random.random(), 1)\n",
    "            if(aleatorio > murcielagos[contador]['pulse_rate']):\n",
    "                #print(\"\\nEntro al primer aleatorio: generar solucion entre mejores\")\n",
    "\n",
    "                aleatorio = random.randrange(tam_poblacion)\n",
    "                murcielagos[-1]['tour'] = swap_2opt(murcielagos[0]['tour'], len(tsp_data.V))\n",
    "                murcielagos = sorted(murcielagos, key=lambda murcielago: tsp_data.evaluate_tour(murcielago['tour']))\n",
    "\n",
    "            aleatorio = round(random.random(), 1)\n",
    "            if(aleatorio < murcielagos[contador]['loudness'] and tsp_data.evaluate_tour(murcielagos[contador]['tour']) < tsp_data.evaluate_tour(murcielagos[0]['tour'])):\n",
    "                #print(\"\\nEntro al segundo aleatorio: generar solucion aleatoria\")\n",
    "\n",
    "                murcielagos[-1]['tour'] = swap_2opt(murcielagos[0]['tour'], len(tsp_data.V))\n",
    "                murcielagos = sorted(murcielagos, key=lambda murcielago: tsp_data.evaluate_tour(murcielago['tour']))\n",
    "\n",
    "                murcielagos[contador]['pulse_rate'] = round(murcielagos[contador]['pulse_rate'] + 0.1, 1)\n",
    "                murcielagos[contador]['loudness'] = round(murcielagos[contador]['loudness'] - 0.1, 1)\n",
    "\n",
    "            murcielagos = sorted(murcielagos, key=lambda murcielago: tsp_data.evaluate_tour(murcielago['tour']))\n",
    "    \n",
    "    return murcielagos[0]['tour']"
   ]
  },
  {
   "cell_type": "markdown",
   "metadata": {
    "collapsed": true
   },
   "source": [
    "# Encontrar una solución a TSP"
   ]
  },
  {
   "cell_type": "code",
   "execution_count": 6,
   "metadata": {},
   "outputs": [
    {
     "data": {
      "image/png": "[encoded data removed]",
      "text/plain": [
       "<matplotlib.figure.Figure at 0x1f5145d4ef0>"
      ]
     },
     "metadata": {},
     "output_type": "display_data"
    }
   ],
   "source": [
    "tsp_data = path.join(benchmark_path,'berlin52.tsp')\n",
    "\n",
    "#Crear Objeto TSP\n",
    "O = TSPObject(tsp_data,metrics.euc_dist)\n",
    "\n",
    "#Crear Matriz de Distancias\n",
    "O.M()\n",
    "\n",
    "#Crear variable que contenga el numero de nodos\n",
    "nodos = len(O.V)\n",
    "\n",
    "#Solucion encontrada por Algoritmo Murcielago\n",
    "tspplot.plot_tsp(O,bat_algorithm(O, 400, 15),figsize=(6,6))"
   ]
  },
  {
   "cell_type": "code",
   "execution_count": null,
   "metadata": {
    "collapsed": true
   },
   "outputs": [],
   "source": []
  }
 ],
 "metadata": {
  "kernelspec": {
   "display_name": "Python 3",
   "language": "python",
   "name": "python3"
  },
  "language_info": {
   "codemirror_mode": {
    "name": "ipython",
    "version": 3
   },
   "file_extension": ".py",
   "mimetype": "text/x-python",
   "name": "python",
   "nbconvert_exporter": "python",
   "pygments_lexer": "ipython3",
   "version": "3.6.3"
  }
 },
 "nbformat": 4,
 "nbformat_minor": 2
}
